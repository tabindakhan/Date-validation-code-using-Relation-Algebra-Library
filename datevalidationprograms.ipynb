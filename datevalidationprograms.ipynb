{
 "cells": [
  {
   "cell_type": "code",
   "execution_count": 5,
   "metadata": {},
   "outputs": [
    {
     "name": "stdout",
     "output_type": "stream",
     "text": [
      "Enter Date in Format of D-M-Y or Y-M-D:12-04-2010\n",
      "valid date\n"
     ]
    }
   ],
   "source": [
    "import re\n",
    "pat=\"^[0-9+]{4}-[0][1-9]|[1][0-2]-[0-9+]{1}[1-9+]{1}|[0-9+]{1}[1-9+]{1}-[0][1-9]|[1][0-2]-[0-9+]{4}\"\n",
    "da = input(\"Enter Date in Format of D-M-Y or Y-M-D:\")\n",
    "if(re.search(pat,da)):\n",
    "    print(\"valid date\")\n",
    "else:\n",
    "     print(\"invalid date\")"
   ]
  },
  {
   "cell_type": "code",
   "execution_count": null,
   "metadata": {},
   "outputs": [],
   "source": []
  },
  {
   "cell_type": "code",
   "execution_count": null,
   "metadata": {},
   "outputs": [],
   "source": []
  },
  {
   "cell_type": "code",
   "execution_count": null,
   "metadata": {},
   "outputs": [],
   "source": []
  }
 ],
 "metadata": {
  "kernelspec": {
   "display_name": "Python 3",
   "language": "python",
   "name": "python3"
  },
  "language_info": {
   "codemirror_mode": {
    "name": "ipython",
    "version": 3
   },
   "file_extension": ".py",
   "mimetype": "text/x-python",
   "name": "python",
   "nbconvert_exporter": "python",
   "pygments_lexer": "ipython3",
   "version": "3.7.6"
  }
 },
 "nbformat": 4,
 "nbformat_minor": 4
}
